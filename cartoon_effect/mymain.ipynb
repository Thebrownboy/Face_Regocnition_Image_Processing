{
 "cells": [
  {
   "cell_type": "code",
   "execution_count": 2,
   "metadata": {},
   "outputs": [],
   "source": [
    "\n",
    "from commonfunctions import *\n",
    "\n",
    "%matplotlib inline\n",
    "%load_ext autoreload\n",
    "%autoreload 2\n"
   ]
  },
  {
   "cell_type": "markdown",
   "metadata": {},
   "source": [
    "# LOAD IMAGE"
   ]
  },
  {
   "cell_type": "code",
   "execution_count": 3,
   "metadata": {},
   "outputs": [],
   "source": [
    "img = cv2.imread(\"yahia.jpg\")"
   ]
  },
  {
   "cell_type": "markdown",
   "metadata": {},
   "source": [
    "# Main charactarestics of the Cartoon image\n",
    "## 1 - Clear Edges\n",
    "## 2 - It has clear homogeneus colors\n"
   ]
  },
  {
   "cell_type": "markdown",
   "metadata": {},
   "source": [
    "### 1) GET CLEAR EDGES"
   ]
  },
  {
   "cell_type": "code",
   "execution_count": 4,
   "metadata": {},
   "outputs": [],
   "source": [
    "def get_edges(img, thickness, blurring):\n",
    "    # Convert to gray scale\n",
    "    gray = cv2.cvtColor(img, cv2.COLOR_BGR2GRAY)\n",
    "\n",
    "    # blurr the image in a way to smooth unnecessary edges\n",
    "    gray_blur = cv2.medianBlur(gray, blurring)\n",
    "\n",
    "    # Get the edges of the blurred img\n",
    "    edges = cv2.adaptiveThreshold(\n",
    "        gray_blur, 255, cv2.ADAPTIVE_THRESH_MEAN_C, cv2.THRESH_BINARY, thickness, blurring)\n",
    "\n",
    "    return edges\n",
    "\n"
   ]
  },
  {
   "cell_type": "code",
   "execution_count": 5,
   "metadata": {},
   "outputs": [],
   "source": [
    "# This was by try and error. Blurring by 5 was enough (must be odd value)\n",
    "edges = get_edges(img, 11, 5)\n",
    "# Thickness 9 was good\n",
    "cv2.imshow(\"Edges\", edges)\n",
    "cv2.waitKey(0)\n",
    "\n",
    "cv2.destroyAllWindows()\n"
   ]
  },
  {
   "cell_type": "markdown",
   "metadata": {},
   "source": [
    "#### 2) clear homogeneus colors\n"
   ]
  },
  {
   "cell_type": "code",
   "execution_count": 6,
   "metadata": {},
   "outputs": [],
   "source": [
    "\n",
    "# This may be done with segmentation in colors to select only 5-10 colors to apply on the image\n",
    "def clear_colors(img):\n",
    "    # We need to find a way to smooth the image and denoise it without hiding so many details. Use https://www.youtube.com/watch?v=CQPZhAVHsXg\n",
    "    color = cv2.bilateralFilter(img , 9 , 300 , 300)\n",
    "    return color\n",
    "\n",
    "\n",
    "\n"
   ]
  },
  {
   "cell_type": "markdown",
   "metadata": {},
   "source": [
    "#### 3) Cartoon by mixing them up\n"
   ]
  },
  {
   "cell_type": "code",
   "execution_count": 7,
   "metadata": {},
   "outputs": [],
   "source": [
    "def cartoonization (img):    \n",
    "    edges = get_edges(img , 11 ,5)\n",
    "    color = clear_colors(img)\n",
    "    cartoon = cv2.bitwise_and(color , color , mask=edges)\n",
    "    return cartoon\n",
    "\n",
    "cartoon = cartoonization(img)\n",
    "cv2.imshow(\"Cartoon\", cartoon)\n",
    "\n",
    "cv2.waitKey(0)\n",
    "\n",
    "cv2.destroyAllWindows()\n",
    "\n"
   ]
  },
  {
   "cell_type": "code",
   "execution_count": null,
   "metadata": {},
   "outputs": [],
   "source": []
  }
 ],
 "metadata": {
  "interpreter": {
   "hash": "e2acff8d33dcc290ba05bb53b7bf437d32344953ddd536e6fde6d60cf684589e"
  },
  "kernelspec": {
   "display_name": "Python 3.8.8 64-bit ('base': conda)",
   "language": "python",
   "name": "python3"
  },
  "language_info": {
   "codemirror_mode": {
    "name": "ipython",
    "version": 3
   },
   "file_extension": ".py",
   "mimetype": "text/x-python",
   "name": "python",
   "nbconvert_exporter": "python",
   "pygments_lexer": "ipython3",
   "version": "3.8.8"
  },
  "orig_nbformat": 4
 },
 "nbformat": 4,
 "nbformat_minor": 2
}
