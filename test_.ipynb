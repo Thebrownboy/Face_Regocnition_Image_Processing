{
 "cells": [
  {
   "cell_type": "code",
   "execution_count": 10,
   "metadata": {},
   "outputs": [],
   "source": [
    "from ViolaJones import *"
   ]
  },
  {
   "cell_type": "code",
   "execution_count": 11,
   "metadata": {},
   "outputs": [],
   "source": [
    "import matplotlib.pyplot as plt\n",
    "from skimage.color import rgb2gray\n",
    "import numpy as np\n",
    "import skimage.io as io\n",
    "import random\n",
    "import cv2\n",
    "import os\n",
    "import matplotlib.patches as patches\n",
    "from sklearn.metrics import classification_report\n",
    "from collections import defaultdict"
   ]
  },
  {
   "cell_type": "code",
   "execution_count": 12,
   "metadata": {},
   "outputs": [],
   "source": [
    "clf2 = ViolaJones.load('model')"
   ]
  },
  {
   "cell_type": "code",
   "execution_count": 13,
   "metadata": {},
   "outputs": [],
   "source": [
    "all_stages = clf2.stages.copy()\n",
    "#clf2.stages = all_stages[:2]\n",
    "clf2.stages = all_stages"
   ]
  },
  {
   "cell_type": "code",
   "execution_count": 14,
   "metadata": {},
   "outputs": [],
   "source": [
    "def scan_image(img, clf, window_x, window_y, stride_x, stride_y, scale):\n",
    "    res = []\n",
    "    img = cv2.resize(img, (img.shape[1] // scale, img.shape[0] // scale))\n",
    "    x, y = img.shape\n",
    "    for i in range(0, x - window_x + 1, stride_x):\n",
    "        for j in range(0, y - window_y + 1, stride_y):\n",
    "            temp = img[i : i + window_x, j : j + window_y]\n",
    "            p = clf.classify(temp)\n",
    "            \n",
    "            if p == 1:\n",
    "                res.append((i * scale, j * scale, (i + window_x) * scale, (j + window_y) * scale))\n",
    "    return res"
   ]
  },
  {
   "cell_type": "code",
   "execution_count": 17,
   "metadata": {},
   "outputs": [],
   "source": [
    "def get_faces(img, clf):\n",
    "    window_x = 19\n",
    "    window_y = 19\n",
    "    stride_x = 3\n",
    "    stride_y = 3\n",
    "    pred = []\n",
    "\n",
    "    gray = cv2.cvtColor(img, cv2.COLOR_BGR2GRAY) / 255\n",
    "    pred = pred + scan_image(gray, clf, window_x, window_y, stride_x, stride_y, 13)\n",
    "\n",
    "    #img = cv2.resize(img, (150, 150))\n",
    "    #window_x = 150 // 6\n",
    "    #window_y = 150 // 5\n",
    "    return pred #scan_image(img, clf, window_x, window_y, stride_x, stride_y, 2) \n"
   ]
  },
  {
   "cell_type": "code",
   "execution_count": 19,
   "metadata": {},
   "outputs": [],
   "source": [
    "cap = cv2.VideoCapture(0)\n",
    "if not cap.isOpened():\n",
    "    print(\"Cannot open camera\")\n",
    "    exit()\n",
    "while True:\n",
    "    # Capture frame-by-frame\n",
    "    ret, frame = cap.read()\n",
    "    # if frame is read correctly ret is True\n",
    "    if not ret:\n",
    "        print(\"Can't receive frame (stream end?). Exiting ...\")\n",
    "        break\n",
    "\n",
    "    #img = cv2.resize(frame, (300, 300))\n",
    "    img = frame.copy()\n",
    "    faces_out = get_faces(img, clf2)\n",
    "    #faces_out = [(200, 100, 200 + 180, 100 + 180)]\n",
    "    for i, j, x, y in faces_out:\n",
    "        cv2.rectangle(img, (j,i), (y, x), (255, 0, 0))\n",
    "\n",
    "    # Display the resulting frame\n",
    "    img = cv2.flip(img, 1)\n",
    "    cv2.imshow('frame', img)\n",
    "    if cv2.waitKey(1) == ord('q'):\n",
    "        break\n",
    "# When everything done, release the capture\n",
    "cap.release()\n",
    "cv2.destroyAllWindows()"
   ]
  },
  {
   "cell_type": "code",
   "execution_count": 9,
   "metadata": {},
   "outputs": [],
   "source": [
    "clf2.save('model', False)"
   ]
  },
  {
   "cell_type": "code",
   "execution_count": null,
   "metadata": {},
   "outputs": [],
   "source": []
  }
 ],
 "metadata": {
  "interpreter": {
   "hash": "e2acff8d33dcc290ba05bb53b7bf437d32344953ddd536e6fde6d60cf684589e"
  },
  "kernelspec": {
   "display_name": "Python 3.8.8 64-bit ('base': conda)",
   "language": "python",
   "name": "python3"
  },
  "language_info": {
   "codemirror_mode": {
    "name": "ipython",
    "version": 3
   },
   "file_extension": ".py",
   "mimetype": "text/x-python",
   "name": "python",
   "nbconvert_exporter": "python",
   "pygments_lexer": "ipython3",
   "version": "3.8.8"
  },
  "orig_nbformat": 4
 },
 "nbformat": 4,
 "nbformat_minor": 2
}
