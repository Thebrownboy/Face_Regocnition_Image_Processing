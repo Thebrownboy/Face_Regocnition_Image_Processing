{
 "cells": [
  {
   "cell_type": "code",
   "execution_count": null,
   "id": "0115d709",
   "metadata": {},
   "outputs": [],
   "source": []
  },
  {
   "cell_type": "code",
   "execution_count": null,
   "id": "12f2815c",
   "metadata": {},
   "outputs": [],
   "source": []
  },
  {
   "cell_type": "code",
   "execution_count": 1,
   "id": "0165bbe8",
   "metadata": {},
   "outputs": [],
   "source": [
    "import skimage.io as io\n",
    "import numpy as np \n",
    "import matplotlib.pyplot as plt\n",
    "from skimage.color import rgb2gray\n",
    "from PIL import Image\n",
    "from numpy.linalg import eig,svd\n",
    "import math \n",
    "from sklearn.decomposition import PCA"
   ]
  },
  {
   "cell_type": "code",
   "execution_count": 3,
   "id": "a14d4988",
   "metadata": {},
   "outputs": [],
   "source": [
    "# this function is responsible for reading the images from the directory\n",
    "# that will train the model with it the photos are well cropped \n",
    "# and the face is fully extracted by the Viola-jones-Algorithm\n",
    "# it will the photos that is used to extract the eigen faces \n",
    "# and train the model ..\n",
    "# it will convert the image to a 1-d vector.. n^2*1 where n is the \n",
    "# width=height of the image .\n",
    "\n",
    "def reading_imgs(img_list):\n",
    "    for i in range(0,11):\n",
    "        img =rgb2gray(np.asarray(Image.open(\"Abdalla\"+str(i)+\".jpeg\").resize((500,500))));\n",
    "#         show_images([img],\"face\"+str(i)+\".jpg\")\n",
    "        img = img.reshape(img.shape[0]*img.shape[1],1)\n",
    "        img_list.append(img); \n",
    "\n",
    "   \n",
    "\n"
   ]
  },
  {
   "cell_type": "code",
   "execution_count": null,
   "id": "1eca4998",
   "metadata": {},
   "outputs": [],
   "source": [
    "# this function is repsonsible for get the mean image from the existing faces \n",
    "# it is used in the alogrithm to subtract it each face to put all the \n",
    "# faces around the zero mean..\n",
    "# put all the images in one matrix \n",
    "# as n^2*m where n is the width=height of the image and m is the number \n",
    "# of images that is used .. \n",
    "\n",
    "def get_mean_face(img_list):\n",
    "    A=img_list[0]; \n",
    "    for i in range(1,len(img_list)):\n",
    "        A=np.append(A,img_list[i],axis=1); \n",
    "    summation=A[:,[0]]; \n",
    "    for i in range(A.shape[1]):\n",
    "        summation= summation + A[:,[i]]; \n",
    "    \n",
    "    mean=summation/len(img_list); \n",
    "    \n",
    "#     mean=np.zeros([A.shape[0],1]);\n",
    "#     for i in range(A.shape[0]):\n",
    "#         mean[i]=np.sum(A[i])/len(img_list);\n",
    "    \n",
    "    return mean,A; "
   ]
  },
  {
   "cell_type": "code",
   "execution_count": null,
   "id": "2930768c",
   "metadata": {},
   "outputs": [],
   "source": [
    "#subtract mean face from the original matrix return the result and its transpose . \n",
    "\n",
    "def sub_mean(A,mean_face):\n",
    "    identity=np.ones([1,A.shape[1]]);\n",
    "    print(identity)\n",
    "    mean_matrix=mean_face @ identity;\n",
    "#     for i in range(A.shape)\n",
    "    B=A-mean_matrix\n",
    "    \n",
    "    \n",
    "    \n",
    "    return B,B.T"
   ]
  },
  {
   "cell_type": "code",
   "execution_count": null,
   "id": "298d3b35",
   "metadata": {},
   "outputs": [],
   "source": [
    "def get_eigs(B,BT):\n",
    "    \n",
    "    ##VERY IMPORTATNT NOTES TO TAKE INTO ACCOUNT.\n",
    "    ##1-D in PCA =SIGMA in SVD.\n",
    "    [D,vi]=eig(BT @ B);\n",
    "    vi=vi.astype('float');\n",
    "    Vi=B @ vi\n",
    "    \n",
    "    \n",
    "    \n",
    "    \n",
    "    for i in range(Vi.shape[1]):\n",
    "        norm = np.linalg.norm(Vi[:,[i]]); \n",
    "        Vi[:,[i]]=Vi[:,[i]]/norm\n",
    "   \n",
    "    \n",
    "\n",
    "    \n",
    "\n",
    "    \n",
    "    return Vi,D; \n",
    "\n"
   ]
  }
 ],
 "metadata": {
  "kernelspec": {
   "display_name": "Python 3",
   "language": "python",
   "name": "python3"
  },
  "language_info": {
   "codemirror_mode": {
    "name": "ipython",
    "version": 3
   },
   "file_extension": ".py",
   "mimetype": "text/x-python",
   "name": "python",
   "nbconvert_exporter": "python",
   "pygments_lexer": "ipython3",
   "version": "3.8.8"
  }
 },
 "nbformat": 4,
 "nbformat_minor": 5
}
