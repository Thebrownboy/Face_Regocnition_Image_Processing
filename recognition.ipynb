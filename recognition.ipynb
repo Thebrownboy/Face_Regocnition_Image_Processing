{
 "cells": [
  {
   "cell_type": "code",
   "execution_count": null,
   "id": "9d783698",
   "metadata": {},
   "outputs": [],
   "source": []
  },
  {
   "cell_type": "code",
   "execution_count": null,
   "id": "a3002b3b",
   "metadata": {},
   "outputs": [],
   "source": []
  },
  {
   "cell_type": "code",
   "execution_count": 1,
   "id": "105b7d40",
   "metadata": {},
   "outputs": [],
   "source": [
    "import skimage.io as io\n",
    "import numpy as np \n",
    "import matplotlib.pyplot as plt\n",
    "from skimage.color import rgb2gray\n",
    "from PIL import Image\n",
    "from numpy.linalg import eig,svd\n",
    "import math \n",
    "from sklearn.decomposition import PCA"
   ]
  },
  {
   "cell_type": "code",
   "execution_count": 3,
   "id": "227df4d5",
   "metadata": {},
   "outputs": [],
   "source": [
    "# this function is responsible for reading the images from the directory\n",
    "# that will train the model with it the photos are well cropped \n",
    "# and the face is fully extracted by the Viola-jones-Algorithm\n",
    "# it will the photos that is used to extract the eigen faces \n",
    "# and train the model ..\n",
    "# it will convert the image to a 1-d vector then put all the images \n",
    "# as n^2*m where n is the width=\n",
    "\n",
    "def reading_imgs(img_list):\n",
    "    for i in range(0,11):\n",
    "        img =rgb2gray(np.asarray(Image.open(\"Abdalla\"+str(i)+\".jpeg\").resize((500,500))));\n",
    "#         show_images([img],\"face\"+str(i)+\".jpg\")\n",
    "        img = img.reshape(img.shape[0]*img.shape[1],1)\n",
    "        img_list.append(img); \n",
    "\n",
    "   \n",
    "\n"
   ]
  },
  {
   "cell_type": "code",
   "execution_count": null,
   "id": "c9409530",
   "metadata": {},
   "outputs": [],
   "source": [
    "# this function is repsonsible for get the mean image from the existing faces \n",
    "# \n",
    "\n",
    "def get_mean_face(img_list):\n",
    "    A=img_list[0]; \n",
    "    for i in range(1,len(img_list)):\n",
    "        A=np.append(A,img_list[i],axis=1); \n",
    "    summation=A[:,[0]]; \n",
    "    for i in range(A.shape[1]):\n",
    "        summation= summation + A[:,[i]]; \n",
    "    \n",
    "    mean=summation/len(img_list); \n",
    "    \n",
    "#     mean=np.zeros([A.shape[0],1]);\n",
    "#     for i in range(A.shape[0]):\n",
    "#         mean[i]=np.sum(A[i])/len(img_list);\n",
    "    \n",
    "    return mean,A; "
   ]
  }
 ],
 "metadata": {
  "kernelspec": {
   "display_name": "Python 3",
   "language": "python",
   "name": "python3"
  },
  "language_info": {
   "codemirror_mode": {
    "name": "ipython",
    "version": 3
   },
   "file_extension": ".py",
   "mimetype": "text/x-python",
   "name": "python",
   "nbconvert_exporter": "python",
   "pygments_lexer": "ipython3",
   "version": "3.8.8"
  }
 },
 "nbformat": 4,
 "nbformat_minor": 5
}
